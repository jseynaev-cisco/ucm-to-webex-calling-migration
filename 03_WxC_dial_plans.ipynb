{
 "cells": [
  {
   "cell_type": "markdown",
   "id": "b53d75fc-9699-4e94-a644-0b0611b34c46",
   "metadata": {},
   "source": [
    "# Adding dial plans\n",
    "This one is based on Johannes' tool   \n",
    "The intention here is to pull learned routes from an SME cluster, then based on UCM route prefix match the patterns with a trunk/route group in Webex"
   ]
  },
  {
   "cell_type": "code",
   "execution_count": 1,
   "id": "8752b41a-6080-4e58-893b-9a59e20acee2",
   "metadata": {},
   "outputs": [],
   "source": [
    "import os\n",
    "import requests\n",
    "import json        # just for pretty printing\n",
    "from dotenv import load_dotenv\n",
    "\n",
    "load_dotenv()\n",
    "WEBEX_TOKEN = os.environ.get(\"WEBEX_TOKEN\", \n",
    "                             # replace below if you don't have a .env\n",
    "                             \"NWVkODBmZWItMjM0Yy00ZDRlLWFjZmQtZWE4ZGNmN2Q1ZDVhOTFiY2UyYjQtNTNj_P0A1_0ec1bbe0-b5aa-454a-bb5b-aecc4e6bdb4c\")\n",
    "BASE_URI = \"https://webexapis.com/v1\"\n",
    "\n",
    "headers = {\n",
    "    \"Authorization\": \"Bearer \" + WEBEX_TOKEN, \n",
    "    \"Content-Type\": \"application/json\", \n",
    "    \"Accept\": \"application/json\"\n",
    "}"
   ]
  },
  {
   "cell_type": "code",
   "execution_count": 2,
   "id": "f03b8418-6a8c-4c38-b8df-20053f13a5d5",
   "metadata": {},
   "outputs": [
    {
     "name": "stdout",
     "output_type": "stream",
     "text": [
      "200 OK\n",
      "{\n",
      "    \"trunks\": [\n",
      "        {\n",
      "            \"id\": \"Y2lzY29zcGFyazovL3VzL1RSVU5LL2NjNzEyOWJkLWFmM2UtNDRiNC04ZjExLTk3ODdkYzIwNTg0ZA\",\n",
      "            \"name\": \"Europe Trunk\",\n",
      "            \"location\": {\n",
      "                \"name\": \"Amsterdam\",\n",
      "                \"id\": \"Y2lzY29zcGFyazovL3VzL0xPQ0FUSU9OLzg2MjU3ZTY3LTcxZDItNDZkMy05ZWZhLTIxY2U2Mzg2NWNhZQ\"\n",
      "            },\n",
      "            \"inUse\": true,\n",
      "            \"trunkType\": \"REGISTERING\",\n",
      "            \"isRestrictedToDedicatedInstance\": false\n",
      "        }\n",
      "    ]\n",
      "}\n",
      "Y2lzY29zcGFyazovL3VzL1RSVU5LL2NjNzEyOWJkLWFmM2UtNDRiNC04ZjExLTk3ODdkYzIwNTg0ZA\n"
     ]
    }
   ],
   "source": [
    "try:\n",
    "    response = requests.get(\n",
    "        BASE_URI + \"/telephony/config/premisePstn/trunks\", \n",
    "        headers=headers\n",
    "    )\n",
    "    response.raise_for_status()\n",
    "    \n",
    "    print(f\"{response.status_code} {response.reason}\")\n",
    "    trunks = response.json()\n",
    "    print(json.dumps(trunks, indent=4))\n",
    "except requests.exceptions.HTTPError as error:\n",
    "    print(error)\n",
    "\n",
    "trunk = next(t for t in trunks[\"trunks\"] \n",
    "             if t[\"name\"] == \"Europe Trunk\")\n",
    "print(trunk[\"id\"])"
   ]
  },
  {
   "cell_type": "code",
   "execution_count": 3,
   "id": "ca5eb811-64d0-4072-abb2-15f038fce8a9",
   "metadata": {},
   "outputs": [
    {
     "name": "stdout",
     "output_type": "stream",
     "text": [
      "201 Created\n",
      "{\n",
      "    \"id\": \"Y2lzY29zcGFyazovL3VzL0RJQUxfUExBTi9jMDVmMGFjMS03Y2Y4LTRiYmEtYmM2Mi00MGY2ZjA3OTQzZWM\",\n",
      "    \"dialPatternErrors\": []\n",
      "}\n"
     ]
    }
   ],
   "source": [
    "data = {\n",
    "  \"name\": \"EU-Trunk-ams\",\n",
    "  \"routeId\": trunk[\"id\"],\n",
    "  \"routeType\": \"TRUNK\"\n",
    "}\n",
    "\n",
    "try:\n",
    "    response = requests.post(\n",
    "        BASE_URI + \"/telephony/config/premisePstn/dialPlans\",\n",
    "        headers=headers,\n",
    "        json=data\n",
    "    )\n",
    "    response.raise_for_status()\n",
    "\n",
    "    print(f\"{response.status_code} {response.reason}\")\n",
    "    dial_plan = response.json()\n",
    "    print(json.dumps(dial_plan, indent=4))\n",
    "except requests.exceptions.HTTPError as error:\n",
    "    print(error)\n",
    "    print(response.json())"
   ]
  },
  {
   "cell_type": "markdown",
   "id": "4bd6e060-a0ac-47a3-96ca-23af1209f6e2",
   "metadata": {},
   "source": [
    "Now we have a dialplan with the destination set to our (Local Gateway) trunk, but it doesn't have any patterns still \n",
    "\n",
    "With these SQL queries and AXL executeSQLQuery, we can find learned routes on an SME cluster \n",
    "```sql\n",
    "select peerid,routestring from remoteclusteruricatalog\n",
    "select remotecatalogkey_id,remoteclusteruricatalog_peerid from remotecatalogkey\n",
    "```\n",
    "\n",
    "From here we can create a list of route strings with corresponding catalog like this\n",
    "> eur.cisco.com,+322702998X   \n",
    "> amer.cisco.com,+1999888123X\n",
    "\n",
    "then map the catalog to a dial-plan   \n",
    "e.g. our dialplan \"EU-Trunk-ams\" we create above will route all \"eur.cisco.com\" routes\n"
   ]
  },
  {
   "cell_type": "code",
   "execution_count": 4,
   "id": "29d5cf56-fb52-4597-bdc1-1f830da74bd7",
   "metadata": {},
   "outputs": [
    {
     "name": "stdout",
     "output_type": "stream",
     "text": [
      "206 Partial Content\n"
     ]
    }
   ],
   "source": [
    "dialPlanId = dial_plan[\"id\"]\n",
    "data = {\n",
    "    \"dialPatterns\": [{\n",
    "        \"dialPattern\": \"+322702998X\",\n",
    "        \"action\": \"ADD\"\n",
    "    }]\n",
    "}\n",
    "\n",
    "try:\n",
    "    response = requests.put(\n",
    "        BASE_URI + f\"/telephony/config/premisePstn/dialPlans/{dialPlanId}/dialPatterns\",\n",
    "        headers=headers,\n",
    "        json=data\n",
    "    )\n",
    "    response.raise_for_status()\n",
    "    print(f\"{response.status_code} {response.reason}\")\n",
    "except requests.exceptions.HTTPError as error:\n",
    "    print(error)\n",
    "    print(response.json())"
   ]
  },
  {
   "cell_type": "code",
   "execution_count": null,
   "id": "8f1034f2-5e50-4d2b-a979-33f33bcae15a",
   "metadata": {},
   "outputs": [],
   "source": []
  }
 ],
 "metadata": {
  "kernelspec": {
   "display_name": "Python 3 (ipykernel)",
   "language": "python",
   "name": "python3"
  },
  "language_info": {
   "codemirror_mode": {
    "name": "ipython",
    "version": 3
   },
   "file_extension": ".py",
   "mimetype": "text/x-python",
   "name": "python",
   "nbconvert_exporter": "python",
   "pygments_lexer": "ipython3",
   "version": "3.11.7"
  }
 },
 "nbformat": 4,
 "nbformat_minor": 5
}

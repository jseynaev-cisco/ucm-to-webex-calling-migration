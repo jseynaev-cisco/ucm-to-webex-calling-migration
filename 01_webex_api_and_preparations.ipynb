{
 "cells": [
  {
   "cell_type": "markdown",
   "id": "c1e13ad8-a552-400f-9e1b-9177716c2fb4",
   "metadata": {},
   "source": [
    "# Using Webex API\n",
    "For this demo we will be using a [developer sandbox](https://developer.webex.com/docs/developer-sandbox-guide)  \n",
    "Once requested, you should receive something like the below\n",
    "\n",
    ">For reference, developer sandbox details  \n",
    ">(https://developer.webex.com/docs/developer-sandbox-guide)\n",
    ">\n",
    ">Name: js********  \n",
    ">DNS Domain: js*******.wbx.ai  \n",
    ">Username: admin@jse*****.wbx.ai  \n",
    ">Password: ************  \n",
    ">Webex Site URL: js*******.webex.com\n",
    "\n",
    "with the username and password you can connect to:  \n",
    "Control Hub at https://admin.webex.com (UI)   \n",
    "API documentation at https://developer.webex.com\n",
    "\n",
    "The only thing to do for going trough the rest of the scripts is adding a Voice Trunk   \n",
    "go to Services > Calling >  Call Routing > Trunk and click \"Add Trunk\", choose the default \"Site1\" for location, give it a name and click \"Save\""
   ]
  },
  {
   "cell_type": "markdown",
   "id": "eb64a227-43d3-4c31-9c95-8929a51f3304",
   "metadata": {},
   "source": [
    "### Setup for using the APIs\n",
    "Import the requests library to be able to make http/API calls"
   ]
  },
  {
   "cell_type": "code",
   "execution_count": null,
   "id": "8bd9304e-156a-47a8-b8a1-79fe76b0be26",
   "metadata": {
    "ExecuteTime": {
     "end_time": "2024-02-01T21:00:09.419556Z",
     "start_time": "2024-02-01T21:00:09.391944Z"
    }
   },
   "outputs": [],
   "source": [
    "import os\n",
    "from dotenv import load_dotenv\n",
    "\n",
    "import requests\n",
    "\n",
    "import json        # just for pretty printing"
   ]
  },
  {
   "cell_type": "markdown",
   "id": "640c03ea-aaf8-41de-8597-10dee725a63f",
   "metadata": {},
   "source": [
    "Define the token for authentication (using a .env here, if you want you can just replace the fake key and not use a .env)  \n",
    "A temporary token can be retrieved from [developer.webex.com](https://developer.webex.com/docs/getting-started)   \n",
    "for production usage you should use an [integration](https://developer.webex.com/docs/integrations) or [Service App](https://developer.webex.com/docs/service-apps)"
   ]
  },
  {
   "cell_type": "code",
   "execution_count": null,
   "id": "80ae9e93-881b-486e-95f7-774d0afb7615",
   "metadata": {
    "ExecuteTime": {
     "end_time": "2024-02-01T21:00:15.635785Z",
     "start_time": "2024-02-01T21:00:15.631116Z"
    }
   },
   "outputs": [],
   "source": [
    "load_dotenv()        # load the .env file\n",
    "\n",
    "WEBEX_TOKEN = os.environ.get(\"WEBEX_TOKEN\", \n",
    "                             # replace below if you don't have a .env\n",
    "                             \"NWVkODBmZWItMjM0Yy00ZDRlLWFjZmQtZWE4ZGNmN2Q1ZDVhOTFiY2UyYjQtNTNj_P0A1_0ec1bbe0-b5aa-454a-bb5b-aecc4e6bdb4c\")\n",
    "BASE_URI = \"https://webexapis.com/v1\""
   ]
  },
  {
   "cell_type": "markdown",
   "id": "467d6a86-6f5b-4d2e-8151-33635a331c75",
   "metadata": {},
   "source": [
    "Define the headers for use with the request   \n",
    "The token is added as well as the Content-Type"
   ]
  },
  {
   "cell_type": "code",
   "execution_count": null,
   "id": "1e5e9519-b3e4-45b9-8f1d-dd4349d5473f",
   "metadata": {
    "ExecuteTime": {
     "end_time": "2024-02-01T21:00:20.202931Z",
     "start_time": "2024-02-01T21:00:20.197961Z"
    }
   },
   "outputs": [],
   "source": [
    "headers = {\n",
    "    \"Authorization\": \"Bearer \" + WEBEX_TOKEN, \n",
    "    \"Content-Type\": \"application/json\", \n",
    "    \"Accept\": \"application/json\"\n",
    "}"
   ]
  },
  {
   "cell_type": "markdown",
   "id": "c104c2a4-41e5-46ba-a4fa-8ea9b25324ba",
   "metadata": {},
   "source": [
    "### GET requests\n",
    "Call to the \"/people/me\" endpoint   \n",
    "https://developer.webex.com/docs/api/v1/people/get-my-own-details"
   ]
  },
  {
   "cell_type": "code",
   "execution_count": null,
   "id": "cedd14af-c9f3-4157-ba22-93d6229173e0",
   "metadata": {
    "ExecuteTime": {
     "end_time": "2024-02-01T21:00:40.810709Z",
     "start_time": "2024-02-01T21:00:40.166313Z"
    },
    "scrolled": true
   },
   "outputs": [],
   "source": [
    "try:\n",
    "    response = requests.get(\n",
    "        BASE_URI + \"/people/me\", \n",
    "        headers=headers\n",
    "    )\n",
    "    response.raise_for_status()\n",
    "    \n",
    "    print(f\"{response.status_code} {response.reason}\")\n",
    "    print(json.dumps(response.json(), indent=4))\n",
    "except requests.exceptions.HTTPError as error:\n",
    "    print(error)"
   ]
  },
  {
   "cell_type": "markdown",
   "id": "7697aab5-8666-40f6-9063-b02ad3eb3632",
   "metadata": {},
   "source": [
    "### POST requests\n",
    "Create people to test with (people can also be added trough a directory sync)   \n",
    "https://developer.webex.com/docs/api/v1/people/create-a-person\n",
    "\n",
    "You will need to replace the domain by the one for your instance (see above)"
   ]
  },
  {
   "cell_type": "code",
   "execution_count": null,
   "id": "e5307e76-55b4-430e-a25b-4196abd647ba",
   "metadata": {
    "scrolled": true
   },
   "outputs": [],
   "source": [
    "sandbox_domain = \"jseynaev-9xbu.wbx.ai\"\n",
    "\n",
    "data = [\n",
    "    {\n",
    "        \"emails\": [f\"alice@{sandbox_domain}\"],\n",
    "        \"displayName\": \"Alice\",\n",
    "        \"firstName\": \"Alice\",\n",
    "        \"lastName\": \"Anderson\",\n",
    "    },\n",
    "    {\n",
    "        \"emails\": [f\"bob@{sandbox_domain}\"],\n",
    "        \"displayName\": \"Bob\",\n",
    "        \"firstName\": \"Bob\",\n",
    "        \"lastName\": \"Barker\",\n",
    "    },\n",
    "    {\n",
    "        \"emails\": [f\"charlie@{sandbox_domain}\"],\n",
    "        \"displayName\": \"Charlie\",\n",
    "        \"firstName\": \"Charlie\",\n",
    "        \"lastName\": \"Chaplin\",\n",
    "    }    \n",
    "]\n",
    "\n",
    "for person in data:\n",
    "    try:\n",
    "        response = requests.post(\n",
    "            BASE_URI + \"/people\",\n",
    "            headers=headers,\n",
    "            json=person\n",
    "        )\n",
    "        response.raise_for_status()\n",
    "    \n",
    "        print(f\"{response.status_code} {response.reason}\")\n",
    "        new_person = response.json()        # we'll use this later\n",
    "        print(json.dumps(new_person, indent=4))\n",
    "    except requests.exceptions.HTTPError as error:\n",
    "        print(error)\n",
    "        print(json.dumps(response.json(), indent=4))\n",
    "        "
   ]
  },
  {
   "cell_type": "markdown",
   "id": "e350768c-7abc-4eda-ad0e-555d37bb1a1f",
   "metadata": {},
   "source": [
    "### PUT request\n",
    "let's update the display name of Charlie  \n",
    "it's recommended to get the details first, adjust what's needed and send back all the data.   \n",
    "\"new_person\" is now \"Charlie\" and contains the above dict, so we can update that and send it back"
   ]
  },
  {
   "cell_type": "code",
   "execution_count": null,
   "id": "e7b551d3-4178-4fc0-820d-a5c21e117ebe",
   "metadata": {},
   "outputs": [],
   "source": [
    "id = new_person[\"id\"]\n",
    "data = new_person\n",
    "data[\"displayName\"] = \"Chappy\"\n",
    "\n",
    "try:\n",
    "    response = requests.put(\n",
    "        BASE_URI + f\"/people/{id}\",\n",
    "        headers=headers,\n",
    "        json=data\n",
    "    )\n",
    "    response.raise_for_status()\n",
    "\n",
    "    print(f\"{response.status_code} {response.reason}\")\n",
    "    print(json.dumps(response.json(), indent=4))\n",
    "except requests.exceptions.HTTPError as error:\n",
    "    print(error)"
   ]
  },
  {
   "cell_type": "markdown",
   "id": "8a0fa4fa-97ec-4080-aa9d-1b307805de9c",
   "metadata": {},
   "source": [
    " ### DELETE something\n",
    "Delete user Charlie"
   ]
  },
  {
   "cell_type": "code",
   "execution_count": null,
   "id": "9bbe227d-439d-4b81-b6fa-9de8bc4e6e16",
   "metadata": {},
   "outputs": [],
   "source": [
    "id = new_person[\"id\"]\n",
    "\n",
    "try:\n",
    "    response = requests.delete(\n",
    "        BASE_URI + f\"/people/{id}\", \n",
    "        headers=headers\n",
    "    )\n",
    "    response.raise_for_status()\n",
    "    \n",
    "    print(f\"{response.status_code} {response.reason}\")\n",
    "except requests.exceptions.HTTPError as error:\n",
    "    print(error)"
   ]
  },
  {
   "cell_type": "code",
   "execution_count": null,
   "id": "48fd1515-4833-47cd-9e4f-d8dba4547eed",
   "metadata": {},
   "outputs": [],
   "source": []
  }
 ],
 "metadata": {
  "kernelspec": {
   "display_name": "Python 3 (ipykernel)",
   "language": "python",
   "name": "python3"
  },
  "language_info": {
   "codemirror_mode": {
    "name": "ipython",
    "version": 3
   },
   "file_extension": ".py",
   "mimetype": "text/x-python",
   "name": "python",
   "nbconvert_exporter": "python",
   "pygments_lexer": "ipython3",
   "version": "3.11.7"
  }
 },
 "nbformat": 4,
 "nbformat_minor": 5
}

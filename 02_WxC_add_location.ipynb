{
 "cells": [
  {
   "cell_type": "markdown",
   "id": "11e8f77c-d78e-4f05-a296-4bde68b88e82",
   "metadata": {},
   "source": [
    "# Adding Locations"
   ]
  },
  {
   "cell_type": "code",
   "execution_count": 1,
   "id": "39d5df21-b8a2-4693-bd65-cb9d56b020c8",
   "metadata": {},
   "outputs": [],
   "source": [
    "import os\n",
    "import requests\n",
    "import json        # just for pretty printing\n",
    "from dotenv import load_dotenv\n",
    "\n",
    "load_dotenv()\n",
    "WEBEX_TOKEN = os.environ.get(\"WEBEX_TOKEN\", \n",
    "                             # replace below if you don't have a .env\n",
    "                             \"NWVkODBmZWItMjM0Yy00ZDRlLWFjZmQtZWE4ZGNmN2Q1ZDVhOTFiY2UyYjQtNTNj_P0A1_0ec1bbe0-b5aa-454a-bb5b-aecc4e6bdb4c\")\n",
    "BASE_URI = \"https://webexapis.com/v1\"\n",
    "\n",
    "headers = {\n",
    "    \"Authorization\": \"Bearer \" + WEBEX_TOKEN, \n",
    "    \"Content-Type\": \"application/json\", \n",
    "    \"Accept\": \"application/json\"\n",
    "}"
   ]
  },
  {
   "cell_type": "markdown",
   "id": "6e6e151a-7349-44d8-986e-6c47c1a47221",
   "metadata": {},
   "source": [
    "### 0. Get Location details\n",
    "From your organisations building/site management system, this will be specific for your case, but the following data will be needed for each site you are adding:\n",
    "- full address\n",
    "- announcement and preferred language\n",
    "- timezone\n",
    "- main number (and voicemail number if applicable)\n"
   ]
  },
  {
   "cell_type": "markdown",
   "id": "420a7d92-545a-4f35-be8f-fbab93bffe99",
   "metadata": {},
   "source": [
    "### 1. Add the physical location\n",
    "The tricky part is to convert your location list to pretty much exactly match the below format  \n",
    "The timezone is in string name format, for a list of countries with their respective TZs see [here](https://developer.webex.com/docs/api/guides/webex-for-broadworks-and-wholesale-common-guide#webex-meetings-site-timezone) or you can use packages that will get the string name based on city   \n",
    "\"announcementLanguage\" and \"preferredLanguage\" will need to be determined too. You can use a default, but in some countries a local language might be needed\n",
    "\n",
    "https://developer.webex.com/docs/api/v1/locations/create-a-location"
   ]
  },
  {
   "cell_type": "code",
   "execution_count": 2,
   "id": "993cf69e-28dd-4106-9c71-88564b3bb9c7",
   "metadata": {},
   "outputs": [
    {
     "name": "stdout",
     "output_type": "stream",
     "text": [
      "201 Created\n",
      "{\n",
      "    \"id\": \"Y2lzY29zcGFyazovL3VzL0xPQ0FUSU9OLzk4YTkxYTk1LWJiMjEtNDQ4YS1hNjU3LTQ3YzI4NDk0MTE3OQ\",\n",
      "    \"name\": \"BRU-Brussels22\",\n",
      "    \"orgId\": \"Y2lzY29zcGFyazovL3VzL09SR0FOSVpBVElPTi8wZWMxYmJlMC1iNWFhLTQ1NGEtYmI1Yi1hZWNjNGU2YmRiNGM\",\n",
      "    \"address\": {\n",
      "        \"address1\": \"De Kleetlaan 6\",\n",
      "        \"address2\": \"\",\n",
      "        \"city\": \"Machelen\",\n",
      "        \"state\": \"\",\n",
      "        \"postalCode\": \"1831\",\n",
      "        \"country\": \"BE\"\n",
      "    },\n",
      "    \"preferredLanguage\": \"en_us\",\n",
      "    \"created\": \"2024-02-05T12:31:23.918066\",\n",
      "    \"modified\": \"2024-02-05T12:31:23.918066\",\n",
      "    \"timeZone\": \"Europe/Brussels\"\n",
      "}\n"
     ]
    }
   ],
   "source": [
    "location_data = {\n",
    "    \"name\": \"BRU-Brussels22\",\n",
    "    \"timeZone\": \"Europe/Brussels\",\n",
    "    \"announcementLanguage\": \"en_us\",\n",
    "    \"preferredLanguage\": \"en_us\",\n",
    "    \"address\": {\n",
    "        \"address1\": \"De Kleetlaan 6\",\n",
    "        \"address2\": \"\",\n",
    "        \"city\": \"Machelen\",\n",
    "        \"state\": \"\",\n",
    "        \"postalCode\": \"1831\",\n",
    "        \"country\": \"BE\"\n",
    "    }\n",
    "}\n",
    "\n",
    "try:\n",
    "    response = requests.post(\n",
    "        BASE_URI + \"/locations\",\n",
    "        headers=headers,\n",
    "        json=location_data\n",
    "    )\n",
    "    response.raise_for_status()\n",
    "\n",
    "    print(f\"{response.status_code} {response.reason}\")\n",
    "    new_location = response.json()\n",
    "    print(json.dumps(new_location, indent=4))\n",
    "except requests.exceptions.HTTPError as error:\n",
    "    print(error)\n"
   ]
  },
  {
   "cell_type": "markdown",
   "id": "26bb0b5b-3cc3-47e9-80de-3873c4a7111d",
   "metadata": {},
   "source": [
    "### 2. Activate calling for the location\n",
    "We use the data returned from above request, but there's a couple of quirks to work out   \n",
    "(might be fixed by now):\n",
    "\n",
    "- if \"address2\" is present in the address, but empty, we need to discard it altogether\n",
    "- \"announcementLanguage\" is not returned, but still needed for the voice activation request\n",
    "\n",
    "https://developer.webex.com/docs/api/v1/location-call-settings/enable-a-location-for-webex-calling"
   ]
  },
  {
   "cell_type": "code",
   "execution_count": 3,
   "id": "4f7e7ee7-d87b-4cfb-8482-07f92bfef0f1",
   "metadata": {},
   "outputs": [
    {
     "name": "stdout",
     "output_type": "stream",
     "text": [
      "201 Created\n",
      "{\n",
      "    \"id\": \"Y2lzY29zcGFyazovL3VzL0xPQ0FUSU9OLzk4YTkxYTk1LWJiMjEtNDQ4YS1hNjU3LTQ3YzI4NDk0MTE3OQ\"\n",
      "}\n"
     ]
    }
   ],
   "source": [
    "data = new_location\n",
    "\n",
    "if (\"address2\" in data[\"address\"] \n",
    "    and data[\"address\"][\"address2\"] == \"\"):\n",
    "    data[\"address\"].pop(\"address2\")\n",
    "\n",
    "data[\"announcementLanguage\"] = location_data[\"announcementLanguage\"]\n",
    "\n",
    "try:\n",
    "    response = requests.post(\n",
    "        BASE_URI + \"/telephony/config/locations\",\n",
    "        headers=headers,\n",
    "        json=data\n",
    "    )\n",
    "    response.raise_for_status()\n",
    "\n",
    "    print(f\"{response.status_code} {response.reason}\")\n",
    "    result = response.json()\n",
    "    print(json.dumps(result, indent=4))\n",
    "except requests.exceptions.HTTPError as error:\n",
    "    print(error)\n",
    "    print(response.json())"
   ]
  },
  {
   "cell_type": "markdown",
   "id": "8aa61c04-d675-4715-92bc-7458f05fd80b",
   "metadata": {},
   "source": [
    "### 3. Add trunk to the location\n",
    "A trunk can be added manually, see 01_*** how to do that. Change the name below as needed       \n",
    "First we'll find the trunk by name so we can get the needed ID "
   ]
  },
  {
   "cell_type": "code",
   "execution_count": 4,
   "id": "6f00ca2a-e265-49c5-b6d3-fcc58e11fe38",
   "metadata": {},
   "outputs": [
    {
     "name": "stdout",
     "output_type": "stream",
     "text": [
      "200 OK\n",
      "{\n",
      "    \"trunks\": [\n",
      "        {\n",
      "            \"id\": \"Y2lzY29zcGFyazovL3VzL1RSVU5LL2NjNzEyOWJkLWFmM2UtNDRiNC04ZjExLTk3ODdkYzIwNTg0ZA\",\n",
      "            \"name\": \"Europe Trunk\",\n",
      "            \"location\": {\n",
      "                \"name\": \"Amsterdam\",\n",
      "                \"id\": \"Y2lzY29zcGFyazovL3VzL0xPQ0FUSU9OLzg2MjU3ZTY3LTcxZDItNDZkMy05ZWZhLTIxY2U2Mzg2NWNhZQ\"\n",
      "            },\n",
      "            \"inUse\": true,\n",
      "            \"trunkType\": \"REGISTERING\",\n",
      "            \"isRestrictedToDedicatedInstance\": false\n",
      "        }\n",
      "    ]\n",
      "}\n"
     ]
    }
   ],
   "source": [
    "trunk_name = \"Europe Trunk\"\n",
    "\n",
    "try:\n",
    "    response = requests.get(\n",
    "        BASE_URI + \"/telephony/config/premisePstn/trunks\",\n",
    "        params={\"name\": trunk_name},\n",
    "        headers=headers,\n",
    "    )\n",
    "    response.raise_for_status()\n",
    "\n",
    "    print(f\"{response.status_code} {response.reason}\")\n",
    "    trunks = response.json()        # we'll use this later\n",
    "    print(json.dumps(trunks, indent=4))\n",
    "except requests.exceptions.HTTPError as error:\n",
    "    print(error)\n",
    "    print(response.json())"
   ]
  },
  {
   "cell_type": "markdown",
   "id": "e9952340-d427-4a75-a0f1-b171b1319031",
   "metadata": {},
   "source": [
    "Update the location to add the trunk (that will be used to send PSTN calls to)\n",
    "\n",
    "https://developer.webex.com/docs/api/v1/location-call-settings/update-location-webex-calling-details"
   ]
  },
  {
   "cell_type": "code",
   "execution_count": 5,
   "id": "52e1e77e-b7ba-4069-9d00-991dc994f6c3",
   "metadata": {},
   "outputs": [
    {
     "name": "stdout",
     "output_type": "stream",
     "text": [
      "204 No Content\n"
     ]
    }
   ],
   "source": [
    "trunk_id = trunks[\"trunks\"][0][\"id\"]\n",
    "location_id = data[\"id\"]\n",
    "\n",
    "# add connection to our location data\n",
    "data[\"connection\"] = {\n",
    "    \"type\": \"TRUNK\", \n",
    "    \"id\": trunk_id\n",
    "}\n",
    "\n",
    "try:\n",
    "    response = requests.put(\n",
    "        BASE_URI + f\"/telephony/config/locations/{location_id}\",\n",
    "        headers=headers,\n",
    "        json=data\n",
    "    )\n",
    "    response.raise_for_status()\n",
    "    print(f\"{response.status_code} {response.reason}\")\n",
    "except requests.exceptions.HTTPError as error:\n",
    "    print(error)\n",
    "    print(response.json())"
   ]
  },
  {
   "cell_type": "markdown",
   "id": "db760c74-55f7-4301-bf77-cdc984d77307",
   "metadata": {},
   "source": [
    "### 4. Add main number to the location\n",
    "For the calling to start working we do need to add a main number. This is used for extension-only users, but will also play a role in emergency calling (country dependant)  \n",
    "This is a 2 step process:\n",
    "- add the number (assuming use of LGW, if using a PSTN plan, the number needs to be ordered and ready)\n",
    "- assign the number to the location\n",
    "\n",
    "https://developer.webex.com/docs/api/v1/numbers/add-phone-numbers-to-a-location"
   ]
  },
  {
   "cell_type": "code",
   "execution_count": 6,
   "id": "dbf493e4-9d0b-442a-bc91-45ae903d013e",
   "metadata": {},
   "outputs": [
    {
     "name": "stdout",
     "output_type": "stream",
     "text": [
      "201 Created\n"
     ]
    }
   ],
   "source": [
    "location_id = data[\"id\"]\n",
    "number_data = {\n",
    "    \"phoneNumbers\": [\"+3227029923\"],    # non-existing for demo\n",
    "    \"state\": \"ACTIVE\"\n",
    "}\n",
    "\n",
    "try:\n",
    "    response = requests.post(\n",
    "        BASE_URI + f\"/telephony/config/locations/{location_id}/numbers\",\n",
    "        headers=headers,\n",
    "        json=number_data\n",
    "    )\n",
    "    response.raise_for_status()\n",
    "    print(f\"{response.status_code} {response.reason}\")\n",
    "except requests.exceptions.HTTPError as error:\n",
    "    print(error)\n",
    "    print(response.json())"
   ]
  },
  {
   "cell_type": "code",
   "execution_count": 9,
   "id": "1ae40a29-2c7d-43f8-bfc7-474c789da867",
   "metadata": {},
   "outputs": [
    {
     "name": "stdout",
     "output_type": "stream",
     "text": [
      "204 No Content\n"
     ]
    }
   ],
   "source": [
    "location_id = data[\"id\"]\n",
    "location_data = data\n",
    "data.pop(\"connection\")\n",
    "location_data[\"callingLineId\"] = {\n",
    "    \"name\": \"Main Number\",\n",
    "    \"phoneNumber\": number_data[\"phoneNumbers\"][0]\n",
    "}\n",
    "\n",
    "try:\n",
    "    response = requests.put(\n",
    "        BASE_URI + f\"/telephony/config/locations/{location_id}\",\n",
    "        headers=headers,\n",
    "        json=location_data\n",
    "    )\n",
    "    response.raise_for_status()\n",
    "    print(f\"{response.status_code} {response.reason}\")\n",
    "except requests.exceptions.HTTPError as error:\n",
    "    print(error)\n",
    "    print(response.json())"
   ]
  },
  {
   "cell_type": "markdown",
   "id": "c31f29b3-3c64-4ba9-be33-839e75c67526",
   "metadata": {},
   "source": [
    "### 5. Add Internal Dialing\n",
    "The last of the mandatory settings for a site to be voice enabled.   \n",
    "We'll add a (unique) internal dial string for the site, the format needs to be set on global level.    \n",
    "For this demo, the format is 8 (steering digit) + 3 (prefix) + 4 (extension)"
   ]
  },
  {
   "cell_type": "code",
   "execution_count": 10,
   "id": "ef5765b5-3cf1-4472-b1a9-cbf02b2664f8",
   "metadata": {},
   "outputs": [
    {
     "name": "stdout",
     "output_type": "stream",
     "text": [
      "206 Partial Content\n"
     ]
    }
   ],
   "source": [
    "location_id = data[\"id\"]\n",
    "location_data[\"routingPrefix\"] = \"8999\"\n",
    "\n",
    "try:\n",
    "    response = requests.put(\n",
    "        BASE_URI + f\"/telephony/config/locations/{location_id}\",\n",
    "        headers=headers,\n",
    "        json=location_data\n",
    "    )\n",
    "    response.raise_for_status()\n",
    "    print(f\"{response.status_code} {response.reason}\")\n",
    "except requests.exceptions.HTTPError as error:\n",
    "    print(error)\n",
    "    print(response.json())"
   ]
  },
  {
   "cell_type": "markdown",
   "id": "354e2bb6-a665-4594-8ee0-f7a052f52866",
   "metadata": {
    "editable": true,
    "slideshow": {
     "slide_type": ""
    },
    "tags": []
   },
   "source": [
    "### 6. Add Features (optional)\n",
    "TBD\n",
    "examples:\n",
    "- set voicemail number\n",
    "- disable international calls\n",
    "- ..."
   ]
  },
  {
   "cell_type": "code",
   "execution_count": null,
   "id": "f38a3e64-6fc3-40a9-8f52-a4a59899c1d0",
   "metadata": {},
   "outputs": [],
   "source": []
  }
 ],
 "metadata": {
  "kernelspec": {
   "display_name": "Python 3 (ipykernel)",
   "language": "python",
   "name": "python3"
  },
  "language_info": {
   "codemirror_mode": {
    "name": "ipython",
    "version": 3
   },
   "file_extension": ".py",
   "mimetype": "text/x-python",
   "name": "python",
   "nbconvert_exporter": "python",
   "pygments_lexer": "ipython3",
   "version": "3.11.7"
  }
 },
 "nbformat": 4,
 "nbformat_minor": 5
}

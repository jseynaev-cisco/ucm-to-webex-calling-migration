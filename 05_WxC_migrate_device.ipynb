{
 "cells": [
  {
   "cell_type": "markdown",
   "id": "dba23282-4e16-492f-bdd6-a80f6e211a25",
   "metadata": {},
   "source": [
    "# Migrate Devices\n",
    "Get the list of devices from UCM / backend systems. In our case, based on \"site\", we find devices owned or associated with a user and devices in the site specific device pools. \n",
    "\n",
    "Steps for migrating a UCM registered device:\n",
    "1. verify the firmware is on the required load (set as default in UCM)\n",
    "2. Add the device in Webex\n",
    "3. Set load and cloud load server for the device\n",
    "4. reboot device to get the new firmware\n",
    "5. check status in Webex"
   ]
  },
  {
   "cell_type": "code",
   "execution_count": null,
   "id": "0f48cc08-2bdc-4355-9a5b-f003e021a220",
   "metadata": {},
   "outputs": [],
   "source": [
    "import os\n",
    "import requests\n",
    "import json        # just for pretty printing\n",
    "from dotenv import load_dotenv\n",
    "\n",
    "load_dotenv()\n",
    "WEBEX_TOKEN = os.environ.get(\"WEBEX_TOKEN\", \n",
    "                             # replace below if you don't have a .env\n",
    "                             \"NWVkODBmZWItMjM0Yy00ZDRlLWFjZmQtZWE4ZGNmN2Q1ZDVhOTFiY2UyYjQtNTNj_P0A1_0ec1bbe0-b5aa-454a-bb5b-aecc4e6bdb4c\")\n",
    "BASE_URI = \"https://webexapis.com/v1\"\n",
    "\n",
    "headers = {\n",
    "    \"Authorization\": \"Bearer \" + WEBEX_TOKEN, \n",
    "    \"Content-Type\": \"application/json\", \n",
    "    \"Accept\": \"application/json\"\n",
    "}"
   ]
  },
  {
   "cell_type": "markdown",
   "id": "75d2e6cc-3c75-4f96-a732-9fd3d1c6f341",
   "metadata": {},
   "source": [
    "### Adding a personal device\n",
    "Assuming the user is properly configured, this can be done with a single call, based on MAC address\n",
    "\n",
    "You will need the exact \"model\" string to be used, accepted ones can be found with API   \n",
    "https://developer.webex.com/docs/api/v1/device-call-settings/read-the-list-of-supported-devices "
   ]
  },
  {
   "cell_type": "code",
   "execution_count": null,
   "id": "3f246898-2fdb-4038-8073-7602fcf3e791",
   "metadata": {},
   "outputs": [],
   "source": [
    "data = {\n",
    "    \"mac\": \"00CCFC992E7C\",\n",
    "    \"model\": \"DMS Cisco 8865\",\n",
    "    \"personId\": \"Y2lzY29zcGFyazovL3VzL1BFT1BMRS9iYjZjNTQ4My00NGNkLTRjOGQtYWNlMS1mZGI4ZGQ1ZmQ4ZDE\",    # this is Alice\n",
    "}\n",
    "\n",
    "try:\n",
    "    response = requests.post(\n",
    "        BASE_URI + \"/devices\",\n",
    "        headers=headers,\n",
    "        json=data\n",
    "    )\n",
    "    response.raise_for_status()\n",
    "\n",
    "    print(f\"{response.status_code} {response.reason}\")\n",
    "    device = response.json()\n",
    "    print(json.dumps(device, indent=4))\n",
    "except requests.exceptions.HTTPError as error:\n",
    "    print(error)"
   ]
  },
  {
   "cell_type": "markdown",
   "id": "339647a7-9768-49e5-936d-8e12673a77f7",
   "metadata": {},
   "source": [
    "### Adding infrastructure device (with hot desking)\n",
    "For this, we will need to add a Workspace first with calling (assuming the number is added, see 'migrate_user')"
   ]
  },
  {
   "cell_type": "code",
   "execution_count": null,
   "id": "5f5fb020-b9b6-4a3e-90ca-8b52ba65c611",
   "metadata": {},
   "outputs": [],
   "source": [
    "data = {\n",
    "    \"locationId\": \"Y2lzY29zcGFyazovL3VzL0xPQ0FUSU9OL2VlYmY5YjhmLTM5YTItNDE3Zi1hNWE4LWI5NzlkYzEyYTEzZQ\",\n",
    "    \"displayName\": \"Desk-BRU-002\",\n",
    "    \"type\": \"desk\",\n",
    "    \"supportedDevices\": \"phones\",\n",
    "    \"calling\": {\n",
    "        \"type\": \"webexCalling\",\n",
    "        \"webexCalling\": {\n",
    "            \"phoneNumber\": \"+3227029922\",\n",
    "            \"extension\": \"9922\",\n",
    "            \"locationId\": \"Y2lzY29zcGFyazovL3VzL0xPQ0FUSU9OL2VlYmY5YjhmLTM5YTItNDE3Zi1hNWE4LWI5NzlkYzEyYTEzZQ\",\n",
    "        }\n",
    "    }\n",
    "}\n",
    "\n",
    "try:\n",
    "    response = requests.post(\n",
    "        BASE_URI + \"/workspaces\",\n",
    "        headers=headers,\n",
    "        json=data\n",
    "    )\n",
    "    response.raise_for_status()\n",
    "\n",
    "    print(f\"{response.status_code} {response.reason}\")\n",
    "    new_workspace = response.json()\n",
    "    print(json.dumps(new_workspace, indent=4))\n",
    "except requests.exceptions.HTTPError as error:\n",
    "    print(error)\n",
    "    print(json.dumps(response.json(), indent=4))"
   ]
  },
  {
   "cell_type": "code",
   "execution_count": null,
   "id": "c359e6ab-a256-4577-807c-0e3e1666f7e0",
   "metadata": {},
   "outputs": [],
   "source": [
    "data = {\n",
    "    \"mac\": \"00CCFC992E7C\",\n",
    "    \"model\": \"DMS Cisco 8865\",\n",
    "    \"workspaceId\": new_workspace[\"id\"]\n",
    "}\n",
    "\n",
    "try:\n",
    "    response = requests.post(\n",
    "        BASE_URI + \"/devices\",\n",
    "        headers=headers,\n",
    "        json=data\n",
    "    )\n",
    "    response.raise_for_status()\n",
    "\n",
    "    print(f\"{response.status_code} {response.reason}\")\n",
    "    device2 = response.json()\n",
    "    print(json.dumps(device2, indent=4))\n",
    "except requests.exceptions.HTTPError as error:\n",
    "    print(error)\n",
    "    print(json.dumps(response.json(), indent=4))"
   ]
  },
  {
   "cell_type": "markdown",
   "id": "3f6aa38a-e1fc-48d7-b3ab-5cb5545a0919",
   "metadata": {},
   "source": [
    "### Reset Phone\n",
    "Now that we configured the phone in webex, we can load the new firmware and reset. This will make the phone register to Webex, picking up the users or workspaces number \n",
    "\n",
    "In the below AXL call, we'll set the correct load and the loadServer, these might change, so better to check on the latest   \n",
    "Note that you can also install this load on your UCM and not use the cloud loadServer"
   ]
  },
  {
   "cell_type": "code",
   "execution_count": null,
   "id": "374d7023-0f4c-4630-b00c-aece5e7a45ab",
   "metadata": {},
   "outputs": [],
   "source": [
    "url = \"https://svluc-ucm-111.cisco.com/axl/\"\n",
    "\n",
    "headers = {\n",
    "    \"Content-Type\": \"text/xml; charset=utf-8\",\n",
    "    \"SOAPAction\": \"CUCM:DB ver=12.0\"\n",
    "}\n",
    "\n",
    "body = \"\"\"\n",
    "<ns0:Envelope xmlns:ns0=\"http://schemas.xmlsoap.org/soap/envelope/\" xmlns:ns=\"http://www.cisco.com/AXL/API/12.0\">\n",
    "<ns0:Header/>\n",
    "<ns0:Body>\n",
    "  <ns:updatePhone>\n",
    "    <name>SEP00279081B2F1</name>\n",
    "    <loadInformation>sip8845_65.12-0-2MPP0001-116</loadInformation>\n",
    "    <vendorConfig><loadServer>cloudupgrader.webex.com</loadServer></vendorConfig>\"\n",
    "  </ns:updatePhone>\n",
    "</ns0:Body>\n",
    "</ns0:Envelope>\n",
    "\"\"\"\n",
    "\n",
    "response = requests.post(url, headers=headers, data=body, auth=('username', 'pwd'))\n",
    "print(response.content)"
   ]
  },
  {
   "cell_type": "markdown",
   "id": "ed83ce94-5b4a-4862-8fbe-55a0a71a2ce6",
   "metadata": {},
   "source": [
    "and with these set, we can reboot the phone so it picks up the new load "
   ]
  },
  {
   "cell_type": "code",
   "execution_count": null,
   "id": "84a8ded9-690e-4d46-a869-ae412438d1f5",
   "metadata": {},
   "outputs": [],
   "source": [
    "body = \"\"\"\n",
    "<ns0:Envelope xmlns:ns0=\"http://schemas.xmlsoap.org/soap/envelope/\" xmlns:ns=\"http://www.cisco.com/AXL/API/12.0\">\n",
    "<ns0:Header/>\n",
    "<ns0:Body>\n",
    "  <ns:applyPhone>\n",
    "    <name>SEP00279081B2F1</name>\n",
    "  </ns:applyPhone>\n",
    "</ns0:Body>\n",
    "</ns0:Envelope>\n",
    "\"\"\"\n",
    "\n",
    "response = requests.post(url, headers=headers, data=body, auth=('ucername', 'pwd'))\n",
    "print(response.content)"
   ]
  },
  {
   "cell_type": "markdown",
   "id": "9123ab1a-4762-4bdf-baf3-7326abad2b5e",
   "metadata": {},
   "source": [
    "### check phone in Webex\n",
    "The reset, download and install of the new firmware will take a while. So now we'll wait and periodically check on the status"
   ]
  },
  {
   "cell_type": "code",
   "execution_count": null,
   "id": "9d6f31a2-0e81-4be4-ac41-21851fcc26e3",
   "metadata": {},
   "outputs": [],
   "source": [
    "try:\n",
    "    response = requests.get(\n",
    "        BASE_URI + \"/devices/Y2lzY29zcGFyazovL3VybjpURUFNOnVzLXdlc3QtMl9yL0NBTExJTkdfREVWSUNFLzAwY2NmYzk5LTJlN2MtNDU0YS1iYjViLWFlY2M0ZTZiZGI0Yw\", \n",
    "        headers=headers\n",
    "    )\n",
    "    response.raise_for_status()\n",
    "    \n",
    "    print(f\"{response.status_code} {response.reason}\")\n",
    "    print(json.dumps(response.json(), indent=4))\n",
    "except requests.exceptions.HTTPError as error:\n",
    "    print(error)"
   ]
  },
  {
   "cell_type": "code",
   "execution_count": null,
   "id": "9f444141-1a51-4da1-9359-daa69ba5b8e0",
   "metadata": {},
   "outputs": [],
   "source": []
  }
 ],
 "metadata": {
  "kernelspec": {
   "display_name": "Python 3 (ipykernel)",
   "language": "python",
   "name": "python3"
  },
  "language_info": {
   "codemirror_mode": {
    "name": "ipython",
    "version": 3
   },
   "file_extension": ".py",
   "mimetype": "text/x-python",
   "name": "python",
   "nbconvert_exporter": "python",
   "pygments_lexer": "ipython3",
   "version": "3.11.7"
  }
 },
 "nbformat": 4,
 "nbformat_minor": 5
}

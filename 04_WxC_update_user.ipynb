{
 "cells": [
  {
   "cell_type": "markdown",
   "id": "b0bb38a9-8466-454f-b4f8-aaa2677ee84e",
   "metadata": {},
   "source": [
    "# Migrating a User\n",
    "We added Alice earlier, now we will enable calling"
   ]
  },
  {
   "cell_type": "code",
   "execution_count": null,
   "id": "6f2d4e19-c3c9-40f8-8e6a-6406ded993d8",
   "metadata": {},
   "outputs": [],
   "source": [
    "import os\n",
    "import requests\n",
    "import json        # just for pretty printing\n",
    "from dotenv import load_dotenv\n",
    "\n",
    "load_dotenv()\n",
    "WEBEX_TOKEN = os.environ.get(\"WEBEX_TOKEN\", \n",
    "                             # replace below if you don't have a .env\n",
    "                             \"NWVkODBmZWItMjM0Yy00ZDRlLWFjZmQtZWE4ZGNmN2Q1ZDVhOTFiY2UyYjQtNTNj_P0A1_0ec1bbe0-b5aa-454a-bb5b-aecc4e6bdb4c\")\n",
    "BASE_URI = \"https://webexapis.com/v1\"\n",
    "\n",
    "headers = {\n",
    "    \"Authorization\": \"Bearer \" + WEBEX_TOKEN, \n",
    "    \"Content-Type\": \"application/json\", \n",
    "    \"Accept\": \"application/json\"\n",
    "}"
   ]
  },
  {
   "cell_type": "markdown",
   "id": "de667353-e3b9-48ba-be96-6a424b75020a",
   "metadata": {},
   "source": [
    "We will assume (basic) users are already present in Control Hub, either added manually or via a directory sync.    \n",
    "The location is also added in a previous step"
   ]
  },
  {
   "cell_type": "code",
   "execution_count": null,
   "id": "e985d19d-86b9-4de5-a846-80fbd1d395a4",
   "metadata": {},
   "outputs": [],
   "source": [
    "USER = \"alice@jseynaev-2xup.wbx.ai\"\n",
    "LOCATION = \"BRU-Brussels\"\n",
    "NUMBER = \"+3227029911\"        # non-existing for demo"
   ]
  },
  {
   "cell_type": "markdown",
   "id": "0ba03805-9f05-4313-896f-abe2e42f1374",
   "metadata": {},
   "source": [
    "### 1. Gather necessary IDs\n",
    "To migrate a user to Webex Calling, we will need to update licenses and associate the user with a location.   \n",
    "In our case, all users have a UCM license which will need to be removed, the Webex Calling license needs to be added to the user. For both we will need the corresponding IDs.   \n",
    "The locationID will also be needed"
   ]
  },
  {
   "cell_type": "code",
   "execution_count": null,
   "id": "97d46c8a-56ea-4388-8cb6-75d81d90874c",
   "metadata": {},
   "outputs": [],
   "source": [
    "LOCATION_ID = \"\"\n",
    "UCM_LICENSE_ID = \"\"\n",
    "WxC_LICENSE_ID = \"\""
   ]
  },
  {
   "cell_type": "code",
   "execution_count": null,
   "id": "2ac08e05-c7b0-4b63-9886-990700ef023c",
   "metadata": {
    "scrolled": true
   },
   "outputs": [],
   "source": [
    "try:\n",
    "    response = requests.get(\n",
    "        BASE_URI + f\"/locations?name={LOCATION}\", \n",
    "        headers=headers\n",
    "    )\n",
    "    response.raise_for_status()\n",
    "    \n",
    "    print(f\"{response.status_code} {response.reason}\")\n",
    "    locations = response.json()\n",
    "    print(json.dumps(locations, indent=4))\n",
    "except requests.exceptions.HTTPError as error:\n",
    "    print(error)\n",
    "\n",
    "location = next(l for l in locations[\"items\"] \n",
    "             if l[\"name\"] == LOCATION)\n",
    "LOCATION_ID = location[\"id\"]"
   ]
  },
  {
   "cell_type": "code",
   "execution_count": null,
   "id": "e31e9795-9999-4f39-a209-08f3b0fbc63c",
   "metadata": {
    "scrolled": true
   },
   "outputs": [],
   "source": [
    "try:\n",
    "    response = requests.get(\n",
    "        BASE_URI + f\"/licenses\", \n",
    "        headers=headers\n",
    "    )\n",
    "    response.raise_for_status()\n",
    "    \n",
    "    print(f\"{response.status_code} {response.reason}\")\n",
    "    licenses = response.json()\n",
    "    print(json.dumps(licenses, indent=4))\n",
    "except requests.exceptions.HTTPError as error:\n",
    "    print(error)\n",
    "\n",
    "# there might be more than one license for the same\n",
    "WxC_LICENSE_ID = next(\n",
    "    item for item in licenses[\"items\"] \n",
    "    if item[\"name\"] == \"Webex Calling - Professional\"\n",
    ")[\"id\"]\n",
    "UCM_LICENSE_ID = next(\n",
    "    item for item in licenses[\"items\"]\n",
    "    if item[\"name\"] == \"Unified Communication Manager (UCM)\"\n",
    ")[\"id\"]"
   ]
  },
  {
   "cell_type": "code",
   "execution_count": null,
   "id": "d13bd7c3-513a-48d9-9058-be8459b3af29",
   "metadata": {},
   "outputs": [],
   "source": [
    "print(WxC_LICENSE_ID)\n",
    "print(\"---\")\n",
    "print(UCM_LICENSE_ID)"
   ]
  },
  {
   "cell_type": "markdown",
   "id": "b1f242bc-571b-4a6b-953f-37daea8b57d0",
   "metadata": {},
   "source": [
    "### 2. Check / add telephone number\n",
    "For us, users that migrate will already have their own number and it needs to be added in order for it to work with LGW. There are of course other scenario's where a new or other number needs to be set.   \n",
    "Here, we will:\n",
    "- pull the list of numbers from the user's location\n",
    "- check if the user's number is configured and available\n",
    "- if not configured, we will add the number (if it's not available, throw an error)"
   ]
  },
  {
   "cell_type": "code",
   "execution_count": null,
   "id": "da5bf073-9496-48c2-80d2-12142cf3c67a",
   "metadata": {
    "scrolled": true
   },
   "outputs": [],
   "source": [
    "try:\n",
    "    response = requests.get(\n",
    "        BASE_URI + f\"/telephony/config/numbers?location={LOCATION_ID}\", \n",
    "        headers=headers\n",
    "    )\n",
    "    response.raise_for_status()\n",
    "    \n",
    "    print(f\"{response.status_code} {response.reason}\")\n",
    "    numbers = response.json()\n",
    "    print(json.dumps(numbers, indent=4))\n",
    "except requests.exceptions.HTTPError as error:\n",
    "    print(error)"
   ]
  },
  {
   "cell_type": "code",
   "execution_count": null,
   "id": "115d5a81-c5b9-4f95-a1eb-137f4ad55768",
   "metadata": {},
   "outputs": [],
   "source": [
    "numbers_found = [number for number in numbers[\"phoneNumbers\"] \n",
    "       if number[\"phoneNumber\"] == NUMBER]\n",
    "\n",
    "if numbers_found:\n",
    "    # we found our number\n",
    "    print(\"number configured\")\n",
    "    number = numbers_found[0]\n",
    "\n",
    "    # check if it's available\n",
    "    if (number[\"state\"] != \"ACTIVE\" \n",
    "        or number[\"phoneNumberType\"] != \"PRIMARY\" \n",
    "        or number[\"mainNumber\"] \n",
    "        or (\"owner\" in number)):\n",
    "        print(\"number is not available for assigning - error\")\n",
    "    else:\n",
    "        print(\"number available for assigning\")\n",
    "else:\n",
    "    print(\"number not configured\")\n"
   ]
  },
  {
   "cell_type": "code",
   "execution_count": null,
   "id": "8d0e5ad0-ad21-4794-9e8b-a5a355df94b7",
   "metadata": {},
   "outputs": [],
   "source": [
    "if not numbers_found:\n",
    "    # number is not present, we can add it \n",
    "    data = {\"phoneNumbers\": [NUMBER], \"state\": \"ACTIVE\"}\n",
    "    try:\n",
    "        response = requests.post(\n",
    "            BASE_URI + f\"/telephony/config/locations/{LOCATION_ID}/numbers\",\n",
    "            headers=headers,\n",
    "            json=data\n",
    "        )\n",
    "        response.raise_for_status()\n",
    "\n",
    "        print(f\"{response.status_code} {response.reason}\")\n",
    "    except requests.exceptions.HTTPError as error:\n",
    "        print(error)\n",
    "        print(json.dumps(response.json(), indent=4))"
   ]
  },
  {
   "cell_type": "markdown",
   "id": "604f1b29-5bf7-4fc1-95c3-91bf0718e193",
   "metadata": {},
   "source": [
    "### 3. Update the user (basic)\n",
    "Now we put it all together. We'll pull the existing user data and update the licenses list as well as the number/location details and then push it back up to activate Webex Calling for the user \n"
   ]
  },
  {
   "cell_type": "code",
   "execution_count": 25,
   "id": "4db8d75e-7aab-4b74-b1f6-36adf6ea030d",
   "metadata": {
    "scrolled": true
   },
   "outputs": [
    {
     "name": "stdout",
     "output_type": "stream",
     "text": [
      "200 OK\n",
      "{\n",
      "    \"notFoundIds\": null,\n",
      "    \"items\": [\n",
      "        {\n",
      "            \"id\": \"Y2lzY29zcGFyazovL3VzL1BFT1BMRS9iYjZjNTQ4My00NGNkLTRjOGQtYWNlMS1mZGI4ZGQ1ZmQ4ZDE\",\n",
      "            \"emails\": [\n",
      "                \"alice@jseynaev-2xup.wbx.ai\"\n",
      "            ],\n",
      "            \"displayName\": \"Alice\",\n",
      "            \"nickName\": \"Alice\",\n",
      "            \"firstName\": \"Alice\",\n",
      "            \"lastName\": \"Anderson\",\n",
      "            \"orgId\": \"Y2lzY29zcGFyazovL3VzL09SR0FOSVpBVElPTi8wZWMxYmJlMC1iNWFhLTQ1NGEtYmI1Yi1hZWNjNGU2YmRiNGM\",\n",
      "            \"roles\": [],\n",
      "            \"licenses\": [\n",
      "                \"Y2lzY29zcGFyazovL3VzL0xJQ0VOU0UvMGVjMWJiZTAtYjVhYS00NTRhLWJiNWItYWVjYzRlNmJkYjRjOkZNU185ZWNhNzgxNC0zMzEzLTQ2NGYtOTY0Mi0wMjM5ODc1YmM5Zjg\",\n",
      "                \"Y2lzY29zcGFyazovL3VzL0xJQ0VOU0UvMGVjMWJiZTAtYjVhYS00NTRhLWJiNWItYWVjYzRlNmJkYjRjOkZTU18xYjcyOGZmOS03ZGU4LTRjYjctOTU0MC0yOTMyMGI1YTQyY2I\",\n",
      "                \"Y2lzY29zcGFyazovL3VzL0xJQ0VOU0UvMGVjMWJiZTAtYjVhYS00NTRhLWJiNWItYWVjYzRlNmJkYjRjOkZUQ19hMjQ3MzgyOC1hOTgwLTQ3MmYtODE5ZC02YjljY2UwOGU5MmI\",\n",
      "                \"Y2lzY29zcGFyazovL3VzL0xJQ0VOU0UvMGVjMWJiZTAtYjVhYS00NTRhLWJiNWItYWVjYzRlNmJkYjRjOkZUTV9mNWZkZTM1Zi00NzA0LTQ2MGEtODEwZi00YzVkMzUyNDFlNjk\"\n",
      "            ],\n",
      "            \"created\": \"2024-01-30T09:09:51.917Z\",\n",
      "            \"lastModified\": \"2024-01-30T09:09:53.945Z\",\n",
      "            \"status\": \"pending\",\n",
      "            \"invitePending\": true,\n",
      "            \"loginEnabled\": true,\n",
      "            \"type\": \"person\"\n",
      "        }\n",
      "    ]\n",
      "}\n"
     ]
    }
   ],
   "source": [
    "try:\n",
    "    response = requests.get(\n",
    "        BASE_URI + \"/people\", \n",
    "        headers=headers,\n",
    "        params={\"email\": USER, \"callingData\": \"true\"}\n",
    "    )\n",
    "    response.raise_for_status()\n",
    "    \n",
    "    print(f\"{response.status_code} {response.reason}\")\n",
    "    users = response.json()\n",
    "    print(json.dumps(users, indent=4))\n",
    "except requests.exceptions.HTTPError as error:\n",
    "    print(error)"
   ]
  },
  {
   "cell_type": "code",
   "execution_count": 26,
   "id": "16d01b55-5eb5-4b52-a46b-4c31b4298795",
   "metadata": {},
   "outputs": [
    {
     "name": "stdout",
     "output_type": "stream",
     "text": [
      "200 OK\n",
      "{\n",
      "    \"id\": \"Y2lzY29zcGFyazovL3VzL1BFT1BMRS9iYjZjNTQ4My00NGNkLTRjOGQtYWNlMS1mZGI4ZGQ1ZmQ4ZDE\",\n",
      "    \"emails\": [\n",
      "        \"alice@jseynaev-2xup.wbx.ai\"\n",
      "    ],\n",
      "    \"phoneNumbers\": [\n",
      "        {\n",
      "            \"type\": \"work_extension\",\n",
      "            \"value\": \"83229911\",\n",
      "            \"primary\": true\n",
      "        },\n",
      "        {\n",
      "            \"type\": \"work\",\n",
      "            \"value\": \"+3227029911\",\n",
      "            \"primary\": true\n",
      "        }\n",
      "    ],\n",
      "    \"sipAddresses\": [\n",
      "        {\n",
      "            \"type\": \"cloud-calling\",\n",
      "            \"value\": \"alice@jseynaev-2xup.calls.webex.com\",\n",
      "            \"primary\": true\n",
      "        }\n",
      "    ],\n",
      "    \"extension\": \"9911\",\n",
      "    \"locationId\": \"Y2lzY29zcGFyazovL3VzL0xPQ0FUSU9OL2VlYmY5YjhmLTM5YTItNDE3Zi1hNWE4LWI5NzlkYzEyYTEzZQ\",\n",
      "    \"displayName\": \"Alice\",\n",
      "    \"nickName\": \"Alice\",\n",
      "    \"firstName\": \"Alice\",\n",
      "    \"lastName\": \"Anderson\",\n",
      "    \"orgId\": \"Y2lzY29zcGFyazovL3VzL09SR0FOSVpBVElPTi8wZWMxYmJlMC1iNWFhLTQ1NGEtYmI1Yi1hZWNjNGU2YmRiNGM\",\n",
      "    \"roles\": [],\n",
      "    \"licenses\": [\n",
      "        \"Y2lzY29zcGFyazovL3VzL0xJQ0VOU0UvMGVjMWJiZTAtYjVhYS00NTRhLWJiNWItYWVjYzRlNmJkYjRjOkZTU18xYjcyOGZmOS03ZGU4LTRjYjctOTU0MC0yOTMyMGI1YTQyY2I\",\n",
      "        \"Y2lzY29zcGFyazovL3VzL0xJQ0VOU0UvMGVjMWJiZTAtYjVhYS00NTRhLWJiNWItYWVjYzRlNmJkYjRjOkZUQ19hMjQ3MzgyOC1hOTgwLTQ3MmYtODE5ZC02YjljY2UwOGU5MmI\",\n",
      "        \"Y2lzY29zcGFyazovL3VzL0xJQ0VOU0UvMGVjMWJiZTAtYjVhYS00NTRhLWJiNWItYWVjYzRlNmJkYjRjOkZUTV9mNWZkZTM1Zi00NzA0LTQ2MGEtODEwZi00YzVkMzUyNDFlNjk\",\n",
      "        \"Y2lzY29zcGFyazovL3VzL0xJQ0VOU0UvMGVjMWJiZTAtYjVhYS00NTRhLWJiNWItYWVjYzRlNmJkYjRjOkZNU185ZWNhNzgxNC0zMzEzLTQ2NGYtOTY0Mi0wMjM5ODc1YmM5Zjg\",\n",
      "        \"Y2lzY29zcGFyazovL3VzL0xJQ0VOU0UvMGVjMWJiZTAtYjVhYS00NTRhLWJiNWItYWVjYzRlNmJkYjRjOkJDU1REXzhmNTI2MTA4LTAxN2YtNDQzNS05ZTQzLWZkZWJiMTBiNjVhNw\"\n",
      "    ],\n",
      "    \"created\": \"2024-01-30T09:09:51.917Z\",\n",
      "    \"lastModified\": \"2024-01-30T10:15:18.211Z\",\n",
      "    \"status\": \"pending\",\n",
      "    \"invitePending\": true,\n",
      "    \"loginEnabled\": true,\n",
      "    \"type\": \"person\"\n",
      "}\n"
     ]
    }
   ],
   "source": [
    "# the returned response is a list, but as we're searching on email there\n",
    "# should be only one\n",
    "user = users[\"items\"][0]\n",
    "\n",
    "user[\"locationId\"] = LOCATION_ID\n",
    "user[\"extension\"] = NUMBER[-4:]        # last 4 digits, depends on global config\n",
    "user[\"phoneNumbers\"] = [               # not needed if gotten from sync(*)\n",
    "    {\"value\": NUMBER, \"type\": \"work\"}]\n",
    "\n",
    "if WxC_LICENSE_ID not in user[\"licenses\"]:\n",
    "    user[\"licenses\"].append(WxC_LICENSE_ID)\n",
    "if UCM_LICENSE_ID in user[\"licenses\"]:\n",
    "    user[\"licenses\"].remove(UCM_LICENSE_ID)\n",
    "\n",
    "try:\n",
    "    response = requests.put(\n",
    "        BASE_URI + f\"/people/{user['id']}\",\n",
    "        headers=headers,\n",
    "        params={\"callingData\": \"true\"},\n",
    "        json=user\n",
    "    )\n",
    "    response.raise_for_status()\n",
    "\n",
    "    print(f\"{response.status_code} {response.reason}\")\n",
    "    print(json.dumps(response.json(), indent=4))\n",
    "except requests.exceptions.HTTPError as error:\n",
    "    print(error)\n",
    "    print(json.dumps(response.json(), indent=4))"
   ]
  },
  {
   "cell_type": "markdown",
   "id": "95700e8f-16d4-4285-a502-25017da872d1",
   "metadata": {},
   "source": [
    "(*)\n",
    "when a user is added by a directory sync and the \"work\" number is already set, you only need to give the extension and location. The backend will check if the extension matches with the \"work\" number, so make sure the number in your directory is correct and sync'd properly"
   ]
  },
  {
   "cell_type": "markdown",
   "id": "cc7a7821-3288-42cd-9124-bce6893196af",
   "metadata": {},
   "source": [
    "### 4. Update user (features)\n",
    "\n",
    "examples:\n",
    "- disable voicemail (enabled by default)\n",
    "- set \"number of rings\" for voicemail\n",
    "- set callerID to main number\n",
    "- international calling ..."
   ]
  },
  {
   "cell_type": "code",
   "execution_count": null,
   "id": "a4cb8e96-e9a9-4e15-9b2f-152c95090c87",
   "metadata": {},
   "outputs": [],
   "source": []
  }
 ],
 "metadata": {
  "kernelspec": {
   "display_name": "Python 3 (ipykernel)",
   "language": "python",
   "name": "python3"
  },
  "language_info": {
   "codemirror_mode": {
    "name": "ipython",
    "version": 3
   },
   "file_extension": ".py",
   "mimetype": "text/x-python",
   "name": "python",
   "nbconvert_exporter": "python",
   "pygments_lexer": "ipython3",
   "version": "3.11.7"
  }
 },
 "nbformat": 4,
 "nbformat_minor": 5
}
